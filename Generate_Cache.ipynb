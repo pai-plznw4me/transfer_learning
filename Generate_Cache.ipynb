{
 "cells": [
  {
   "cell_type": "code",
   "execution_count": 1,
   "metadata": {},
   "outputs": [
    {
     "name": "stderr",
     "output_type": "stream",
     "text": [
      "/anaconda/envs/py35/lib/python3.5/site-packages/h5py/__init__.py:36: FutureWarning: Conversion of the second argument of issubdtype from `float` to `np.floating` is deprecated. In future, it will be treated as `np.float64 == np.dtype(float).type`.\n",
      "  from ._conv import register_converters as _register_converters\n"
     ]
    },
    {
     "name": "stdout",
     "output_type": "stream",
     "text": [
      "Requirement already satisfied: tensorboardcolab in /data/anaconda/envs/py35/lib/python3.5/site-packages\n",
      "\u001b[33mYou are using pip version 9.0.3, however version 19.1.1 is available.\n",
      "You should consider upgrading via the 'pip install --upgrade pip' command.\u001b[0m\n"
     ]
    },
    {
     "name": "stderr",
     "output_type": "stream",
     "text": [
      "Using TensorFlow backend.\n"
     ]
    }
   ],
   "source": [
    "import tensorflow as tf\n",
    "import numpy as np\n",
    "import matplotlib.pyplot as plt\n",
    "import os\n",
    "\n",
    "!pip install tensorboardcolab\n",
    "import tensorboardcolab"
   ]
  },
  {
   "cell_type": "markdown",
   "metadata": {},
   "source": [
    "# Load Cifar10 "
   ]
  },
  {
   "cell_type": "code",
   "execution_count": 2,
   "metadata": {},
   "outputs": [],
   "source": [
    "## load cifar10 dataset \n",
    "from keras.datasets import cifar10\n",
    "\n",
    "(x_train, y_train), (x_test, y_test) = cifar10.load_data()\n",
    "\n",
    "## reshape (None, 1) -> (None)\n",
    "y_train, y_test = [y.reshape([-1]) for y in [y_train, y_test]]\n",
    "\n",
    "## normalization \n",
    "x_train, x_test = [x for x in [x_train, x_test]]\n",
    "\n",
    "## N classㅡ\n",
    "n_classes = 10"
   ]
  },
  {
   "cell_type": "code",
   "execution_count": 4,
   "metadata": {},
   "outputs": [
    {
     "data": {
      "text/plain": [
       "(10000,)"
      ]
     },
     "execution_count": 4,
     "metadata": {},
     "output_type": "execute_result"
    }
   ],
   "source": [
    "y_test.shape"
   ]
  },
  {
   "cell_type": "markdown",
   "metadata": {},
   "source": [
    "# Graph"
   ]
  },
  {
   "cell_type": "code",
   "execution_count": 3,
   "metadata": {},
   "outputs": [
    {
     "name": "stdout",
     "output_type": "stream",
     "text": [
      "WARNING:tensorflow:From <ipython-input-3-cd58a491cca9>:8: FastGFile.__init__ (from tensorflow.python.platform.gfile) is deprecated and will be removed in a future version.\n",
      "Instructions for updating:\n",
      "Use tf.gfile.GFile.\n"
     ]
    }
   ],
   "source": [
    "data_dir = './'\n",
    "path_pb = 'classify_image_graph_def.pb'\n",
    "path = os.path.join(data_dir, path_pb)\n",
    "graph = tf.Graph()\n",
    "\n",
    "with graph.as_default() :\n",
    "    #file 주소값\n",
    "    with tf.gfile.FastGFile(path, 'rb') as file:\n",
    "        graph_def  = tf.GraphDef()\n",
    "\n",
    "        #string으로 read함\n",
    "        graph_def.ParseFromString(file.read())\n",
    "        tf.import_graph_def(graph_def, name = '')\n",
    "    \n",
    "    #InputTensor\n",
    "    DecodeJpeg = graph.get_tensor_by_name(\"DecodeJpeg:0\")\n",
    "\n",
    "    #Get tensor pool_3/_reshape from models\n",
    "    flat_layer = graph.get_tensor_by_name(\"pool_3/_reshape:0\")"
   ]
  },
  {
   "cell_type": "markdown",
   "metadata": {},
   "source": [
    "# Generate cache"
   ]
  },
  {
   "cell_type": "code",
   "execution_count": 4,
   "metadata": {},
   "outputs": [],
   "source": [
    "#extracted_feature\n",
    "import sys \n",
    "def show_progess(n_total, index):\n",
    "    sys.stdout.write('\\r Progess {}/{}'.format(n_total, index))\n",
    "    sys.stdout.flush()\n",
    "\n",
    "def extract_cache(graph, sess, DecodeJpeg, flat_layer, xs):\n",
    "    with graph.as_default() :  \n",
    "        caches = [] \n",
    "        for ind, x in enumerate(xs):\n",
    "            show_progess(len(xs), ind)\n",
    "            feed_dict = {DecodeJpeg : x}\n",
    "            cache = sess.run(flat_layer, feed_dict)\n",
    "            cache = np.squeeze(cache)\n",
    "            caches.append(cache)\n",
    "\n",
    "        train_caches = np.stack(caches)\n",
    "        return train_caches"
   ]
  },
  {
   "cell_type": "markdown",
   "metadata": {},
   "source": [
    "# Open Session"
   ]
  },
  {
   "cell_type": "code",
   "execution_count": 5,
   "metadata": {},
   "outputs": [],
   "source": [
    "sess = tf.Session(graph=graph)"
   ]
  },
  {
   "cell_type": "markdown",
   "metadata": {},
   "source": [
    "# Extract Cache from Test Dataset"
   ]
  },
  {
   "cell_type": "code",
   "execution_count": 6,
   "metadata": {},
   "outputs": [
    {
     "name": "stdout",
     "output_type": "stream",
     "text": [
      " Progess 10000/9999"
     ]
    }
   ],
   "source": [
    "test_caches = extract_cache(graph, sess, DecodeJpeg, flat_layer, x_test[:])"
   ]
  },
  {
   "cell_type": "markdown",
   "metadata": {},
   "source": [
    "# Extract Cache from Train Dataset"
   ]
  },
  {
   "cell_type": "code",
   "execution_count": 7,
   "metadata": {},
   "outputs": [
    {
     "name": "stdout",
     "output_type": "stream",
     "text": [
      " Progess 50000/49999"
     ]
    }
   ],
   "source": [
    "train_caches = extract_cache(graph, sess, DecodeJpeg, flat_layer, x_train[:])"
   ]
  },
  {
   "cell_type": "code",
   "execution_count": 11,
   "metadata": {},
   "outputs": [],
   "source": [
    "np.save('test_caches', test_caches)\n",
    "np.save('train_caches', train_caches)"
   ]
  },
  {
   "cell_type": "code",
   "execution_count": 12,
   "metadata": {},
   "outputs": [
    {
     "name": "stdout",
     "output_type": "stream",
     "text": [
      "(10000, 2048)\n",
      "(50000, 2048)\n"
     ]
    }
   ],
   "source": [
    "print(test_caches.shape)\n",
    "print(train_caches.shape)"
   ]
  },
  {
   "cell_type": "code",
   "execution_count": null,
   "metadata": {},
   "outputs": [],
   "source": [
    ""
   ]
  }
 ],
 "metadata": {
  "kernelspec": {
   "display_name": "Python 3.5",
   "language": "python",
   "name": "python3"
  },
  "language_info": {
   "codemirror_mode": {
    "name": "ipython",
    "version": 3.0
   },
   "file_extension": ".py",
   "mimetype": "text/x-python",
   "name": "python",
   "nbconvert_exporter": "python",
   "pygments_lexer": "ipython3",
   "version": "3.5.5"
  }
 },
 "nbformat": 4,
 "nbformat_minor": 0
}